{
 "cells": [
  {
   "cell_type": "markdown",
   "id": "20ae7a32",
   "metadata": {},
   "source": [
    "Exploration notebook for Kaggle's mastercard default challenge"
   ]
  },
  {
   "cell_type": "code",
   "execution_count": 7,
   "id": "357981e0",
   "metadata": {},
   "outputs": [],
   "source": [
    "import pandas as pd\n",
    "import numpy as np\n",
    "import matplotlib.pyplot as plt"
   ]
  },
  {
   "cell_type": "code",
   "execution_count": 2,
   "id": "dbf7c948",
   "metadata": {},
   "outputs": [],
   "source": [
    "FILE_PATH = 'C:/Users/Nick/Desktop/Nick/Projects/Kaggle/Amex_default_competition/amex-default-prediction/train_data.csv'\n",
    "df_train = pd.read_csv(FILE_PATH, nrows=100000)\n",
    "# Upload train dataframe"
   ]
  },
  {
   "cell_type": "code",
   "execution_count": 28,
   "id": "1be3e6f9",
   "metadata": {},
   "outputs": [
    {
     "name": "stdout",
     "output_type": "stream",
     "text": [
      "                                             customer_ID         S_2  \\\n",
      "0      0000099d6bd597052cdcda90ffabf56573fe9d7c79be5f...  2017-03-09   \n",
      "1      0000099d6bd597052cdcda90ffabf56573fe9d7c79be5f...  2017-04-07   \n",
      "2      0000099d6bd597052cdcda90ffabf56573fe9d7c79be5f...  2017-05-28   \n",
      "3      0000099d6bd597052cdcda90ffabf56573fe9d7c79be5f...  2017-06-13   \n",
      "4      0000099d6bd597052cdcda90ffabf56573fe9d7c79be5f...  2017-07-16   \n",
      "...                                                  ...         ...   \n",
      "99995  049dd5e7b5a6895c4f8b179362d8e91f26ebf0b6c95e99...  2018-01-02   \n",
      "99996  049dd5e7b5a6895c4f8b179362d8e91f26ebf0b6c95e99...  2018-02-27   \n",
      "99997  049dd5e7b5a6895c4f8b179362d8e91f26ebf0b6c95e99...  2018-03-08   \n",
      "99998  049e0948e285ec6767bf07e6e3f5e0919821ee200e359d...  2017-03-29   \n",
      "99999  049e0948e285ec6767bf07e6e3f5e0919821ee200e359d...  2017-04-28   \n",
      "\n",
      "            P_2      D_39       B_1       B_2       R_1       S_3      D_41  \\\n",
      "0      0.938469  0.001733  0.008724  1.006838  0.009228  0.124035  0.008771   \n",
      "1      0.936665  0.005775  0.004923  1.000653  0.006151  0.126750  0.000798   \n",
      "2      0.954180  0.091505  0.021655  1.009672  0.006815  0.123977  0.007598   \n",
      "3      0.960384  0.002455  0.013683  1.002700  0.001373  0.117169  0.000685   \n",
      "4      0.947248  0.002483  0.015193  1.000727  0.007605  0.117325  0.004653   \n",
      "...         ...       ...       ...       ...       ...       ...       ...   \n",
      "99995  0.458911  0.124405  0.597829  0.023698  0.004703  0.162860  0.000963   \n",
      "99996  0.363298  0.038383  0.675999  0.023201  0.006627  0.160133  0.000720   \n",
      "99997  0.356621  0.036849  0.645728  0.020585  0.004587  0.166246  0.003972   \n",
      "99998  0.714477  0.000546  0.008019  0.817670  0.006265       NaN  0.008652   \n",
      "99999  0.614861  0.008513  0.008796  0.813174  0.008680       NaN  0.002812   \n",
      "\n",
      "            B_3  ...  D_136  D_137  D_138     D_139     D_140     D_141  \\\n",
      "0      0.004709  ...    NaN    NaN    NaN  0.002427  0.003706  0.003818   \n",
      "1      0.002714  ...    NaN    NaN    NaN  0.003954  0.003167  0.005032   \n",
      "2      0.009423  ...    NaN    NaN    NaN  0.003269  0.007329  0.000427   \n",
      "3      0.005531  ...    NaN    NaN    NaN  0.006117  0.004516  0.003200   \n",
      "4      0.009312  ...    NaN    NaN    NaN  0.003671  0.004946  0.008889   \n",
      "...         ...  ...    ...    ...    ...       ...       ...       ...   \n",
      "99995  0.627714  ...    NaN    NaN    NaN  0.004281  0.003969  0.003936   \n",
      "99996  0.822903  ...    NaN    NaN    NaN  0.004239  0.008563  0.003117   \n",
      "99997  0.871214  ...    NaN    NaN    NaN  0.009920  0.005579  0.008481   \n",
      "99998  0.008341  ...    NaN    NaN    NaN  1.006665  0.003085  0.914985   \n",
      "99999  0.009391  ...    NaN    NaN    NaN  1.006981  0.003211  0.914737   \n",
      "\n",
      "          D_142     D_143     D_144     D_145  \n",
      "0           NaN  0.000569  0.000610  0.002674  \n",
      "1           NaN  0.009576  0.005492  0.009217  \n",
      "2           NaN  0.003429  0.006986  0.002603  \n",
      "3           NaN  0.008419  0.006527  0.009600  \n",
      "4           NaN  0.001670  0.008126  0.009827  \n",
      "...         ...       ...       ...       ...  \n",
      "99995       NaN  0.006478  0.003046  0.004138  \n",
      "99996       NaN  0.006679  0.007450  0.002982  \n",
      "99997       NaN  0.001516  0.005997  0.004767  \n",
      "99998  0.351957  1.001686  0.579711  0.454960  \n",
      "99999  0.356866  1.001302  0.669118  0.460121  \n",
      "\n",
      "[100000 rows x 190 columns]\n"
     ]
    }
   ],
   "source": [
    "print(df_train)"
   ]
  },
  {
   "cell_type": "markdown",
   "id": "dfd02c61",
   "metadata": {},
   "source": [
    "General categories:\n",
    "\n",
    "D_* = Delinquency variables\n",
    "S_* = Spend variables\n",
    "P_* = Payment variables\n",
    "B_* = Balance variables\n",
    "R_* = Risk variables\n",
    "with the following features being categorical:\n",
    "\n",
    "['B_30', 'B_38', 'D_114', 'D_116', 'D_117', 'D_120', 'D_126', 'D_63', 'D_64', 'D_66', 'D_68']"
   ]
  },
  {
   "cell_type": "code",
   "execution_count": 3,
   "id": "0f49c34a",
   "metadata": {},
   "outputs": [],
   "source": [
    "FILE_PATH2 = 'C:/Users/Nick/Desktop/Nick/Projects/Kaggle/Amex_default_competition/amex-default-prediction/train_labels.csv'\n",
    "df_labels = pd.read_csv(FILE_PATH2, nrows=100000)\n",
    "# Upload train dataframe"
   ]
  },
  {
   "cell_type": "code",
   "execution_count": 4,
   "id": "5c7308b7",
   "metadata": {},
   "outputs": [
    {
     "name": "stdout",
     "output_type": "stream",
     "text": [
      "                                             customer_ID  target\n",
      "0      0000099d6bd597052cdcda90ffabf56573fe9d7c79be5f...       0\n",
      "1      00000fd6641609c6ece5454664794f0340ad84dddce9a2...       0\n",
      "2      00001b22f846c82c51f6e3958ccd81970162bae8b007e8...       0\n",
      "3      000041bdba6ecadd89a52d11886e8eaaec9325906c9723...       0\n",
      "4      00007889e4fcd2614b6cbe7f8f3d2e5c728eca32d9eb8a...       0\n",
      "...                                                  ...     ...\n",
      "99995  379c691f591070e27fbc48af22b7d1c5a3aaed252513f8...       0\n",
      "99996  379cd985e084f4a891f2dd8ef293bed05a19171ed0cc13...       0\n",
      "99997  379ceebf8834f6272f58b71aa7124c1114e768940a7d04...       0\n",
      "99998  379d1091601a628432bf15d688db67273a2332a787dc61...       0\n",
      "99999  379d176c2533b3ea64aa0ee4ed20d5f53adf1d2bf80610...       0\n",
      "\n",
      "[100000 rows x 2 columns]\n"
     ]
    }
   ],
   "source": [
    "print(df_labels)"
   ]
  },
  {
   "cell_type": "code",
   "execution_count": 5,
   "id": "f2789939",
   "metadata": {},
   "outputs": [],
   "source": [
    "df_tr = pd.merge(df_labels, df_train, on='customer_ID', how='left')\n",
    "# Join train with its labels"
   ]
  },
  {
   "cell_type": "code",
   "execution_count": 6,
   "id": "6d58ead2",
   "metadata": {},
   "outputs": [
    {
     "name": "stdout",
     "output_type": "stream",
     "text": [
      "                                              customer_ID  target         S_2  \\\n",
      "0       0000099d6bd597052cdcda90ffabf56573fe9d7c79be5f...       0  2017-03-09   \n",
      "1       0000099d6bd597052cdcda90ffabf56573fe9d7c79be5f...       0  2017-04-07   \n",
      "2       0000099d6bd597052cdcda90ffabf56573fe9d7c79be5f...       0  2017-05-28   \n",
      "3       0000099d6bd597052cdcda90ffabf56573fe9d7c79be5f...       0  2017-06-13   \n",
      "4       0000099d6bd597052cdcda90ffabf56573fe9d7c79be5f...       0  2017-07-16   \n",
      "...                                                   ...     ...         ...   \n",
      "191701  379c691f591070e27fbc48af22b7d1c5a3aaed252513f8...       0         NaN   \n",
      "191702  379cd985e084f4a891f2dd8ef293bed05a19171ed0cc13...       0         NaN   \n",
      "191703  379ceebf8834f6272f58b71aa7124c1114e768940a7d04...       0         NaN   \n",
      "191704  379d1091601a628432bf15d688db67273a2332a787dc61...       0         NaN   \n",
      "191705  379d176c2533b3ea64aa0ee4ed20d5f53adf1d2bf80610...       0         NaN   \n",
      "\n",
      "             P_2      D_39       B_1       B_2       R_1       S_3      D_41  \\\n",
      "0       0.938469  0.001733  0.008724  1.006838  0.009228  0.124035  0.008771   \n",
      "1       0.936665  0.005775  0.004923  1.000653  0.006151  0.126750  0.000798   \n",
      "2       0.954180  0.091505  0.021655  1.009672  0.006815  0.123977  0.007598   \n",
      "3       0.960384  0.002455  0.013683  1.002700  0.001373  0.117169  0.000685   \n",
      "4       0.947248  0.002483  0.015193  1.000727  0.007605  0.117325  0.004653   \n",
      "...          ...       ...       ...       ...       ...       ...       ...   \n",
      "191701       NaN       NaN       NaN       NaN       NaN       NaN       NaN   \n",
      "191702       NaN       NaN       NaN       NaN       NaN       NaN       NaN   \n",
      "191703       NaN       NaN       NaN       NaN       NaN       NaN       NaN   \n",
      "191704       NaN       NaN       NaN       NaN       NaN       NaN       NaN   \n",
      "191705       NaN       NaN       NaN       NaN       NaN       NaN       NaN   \n",
      "\n",
      "        ...  D_136  D_137  D_138     D_139     D_140     D_141  D_142  \\\n",
      "0       ...    NaN    NaN    NaN  0.002427  0.003706  0.003818    NaN   \n",
      "1       ...    NaN    NaN    NaN  0.003954  0.003167  0.005032    NaN   \n",
      "2       ...    NaN    NaN    NaN  0.003269  0.007329  0.000427    NaN   \n",
      "3       ...    NaN    NaN    NaN  0.006117  0.004516  0.003200    NaN   \n",
      "4       ...    NaN    NaN    NaN  0.003671  0.004946  0.008889    NaN   \n",
      "...     ...    ...    ...    ...       ...       ...       ...    ...   \n",
      "191701  ...    NaN    NaN    NaN       NaN       NaN       NaN    NaN   \n",
      "191702  ...    NaN    NaN    NaN       NaN       NaN       NaN    NaN   \n",
      "191703  ...    NaN    NaN    NaN       NaN       NaN       NaN    NaN   \n",
      "191704  ...    NaN    NaN    NaN       NaN       NaN       NaN    NaN   \n",
      "191705  ...    NaN    NaN    NaN       NaN       NaN       NaN    NaN   \n",
      "\n",
      "           D_143     D_144     D_145  \n",
      "0       0.000569  0.000610  0.002674  \n",
      "1       0.009576  0.005492  0.009217  \n",
      "2       0.003429  0.006986  0.002603  \n",
      "3       0.008419  0.006527  0.009600  \n",
      "4       0.001670  0.008126  0.009827  \n",
      "...          ...       ...       ...  \n",
      "191701       NaN       NaN       NaN  \n",
      "191702       NaN       NaN       NaN  \n",
      "191703       NaN       NaN       NaN  \n",
      "191704       NaN       NaN       NaN  \n",
      "191705       NaN       NaN       NaN  \n",
      "\n",
      "[191706 rows x 191 columns]\n"
     ]
    }
   ],
   "source": [
    "print(df_tr)"
   ]
  },
  {
   "cell_type": "markdown",
   "id": "21c9bf3b",
   "metadata": {},
   "source": [
    "# Data exploration\n",
    "\n",
    "Questions:\n",
    "- Distribution of target per customer\n",
    "- Distribution of NAs in variables\n",
    "- Variables distributions (hist, range etc)\n",
    "- Variables correlation"
   ]
  },
  {
   "cell_type": "code",
   "execution_count": 22,
   "id": "41208360",
   "metadata": {},
   "outputs": [
    {
     "name": "stdout",
     "output_type": "stream",
     "text": [
      "                                             customer_ID  count  target\n",
      "0      0000099d6bd597052cdcda90ffabf56573fe9d7c79be5f...     13       0\n",
      "1      00000fd6641609c6ece5454664794f0340ad84dddce9a2...     13       0\n",
      "2      00001b22f846c82c51f6e3958ccd81970162bae8b007e8...     13       0\n",
      "3      000041bdba6ecadd89a52d11886e8eaaec9325906c9723...     13       0\n",
      "4      00007889e4fcd2614b6cbe7f8f3d2e5c728eca32d9eb8a...     13       0\n",
      "...                                                  ...    ...     ...\n",
      "99995  379c691f591070e27fbc48af22b7d1c5a3aaed252513f8...      1       0\n",
      "99996  379cd985e084f4a891f2dd8ef293bed05a19171ed0cc13...      1       0\n",
      "99997  379ceebf8834f6272f58b71aa7124c1114e768940a7d04...      1       0\n",
      "99998  379d1091601a628432bf15d688db67273a2332a787dc61...      1       0\n",
      "99999  379d176c2533b3ea64aa0ee4ed20d5f53adf1d2bf80610...      1       0\n",
      "\n",
      "[100000 rows x 3 columns]\n"
     ]
    }
   ],
   "source": [
    "df_cust = df_tr.groupby('customer_ID').size().reset_index(name='count')\n",
    "df_cust2 = pd.merge(df_cust, df_labels, on='customer_ID', how='left')\n",
    "print(df_cust2)"
   ]
  },
  {
   "cell_type": "code",
   "execution_count": 27,
   "id": "f3c08b2a",
   "metadata": {},
   "outputs": [
    {
     "name": "stdout",
     "output_type": "stream",
     "text": [
      "                                             customer_ID  count  target  \\\n",
      "0      0000099d6bd597052cdcda90ffabf56573fe9d7c79be5f...     13       0   \n",
      "1      00000fd6641609c6ece5454664794f0340ad84dddce9a2...     13       0   \n",
      "2      00001b22f846c82c51f6e3958ccd81970162bae8b007e8...     13       0   \n",
      "3      000041bdba6ecadd89a52d11886e8eaaec9325906c9723...     13       0   \n",
      "4      00007889e4fcd2614b6cbe7f8f3d2e5c728eca32d9eb8a...     13       0   \n",
      "...                                                  ...    ...     ...   \n",
      "99995  379c691f591070e27fbc48af22b7d1c5a3aaed252513f8...      1       0   \n",
      "99996  379cd985e084f4a891f2dd8ef293bed05a19171ed0cc13...      1       0   \n",
      "99997  379ceebf8834f6272f58b71aa7124c1114e768940a7d04...      1       0   \n",
      "99998  379d1091601a628432bf15d688db67273a2332a787dc61...      1       0   \n",
      "99999  379d176c2533b3ea64aa0ee4ed20d5f53adf1d2bf80610...      1       0   \n",
      "\n",
      "       frequent_customer  \n",
      "0                      1  \n",
      "1                      1  \n",
      "2                      1  \n",
      "3                      1  \n",
      "4                      1  \n",
      "...                  ...  \n",
      "99995                  1  \n",
      "99996                  1  \n",
      "99997                  1  \n",
      "99998                  1  \n",
      "99999                  1  \n",
      "\n",
      "[100000 rows x 4 columns]\n"
     ]
    }
   ],
   "source": [
    "df_cust2['frequent_customer'] = (df_cust2['count'] > 0).astype(int)\n",
    "# I create a dummy indicating whether the customer appeared more than once or not"
   ]
  },
  {
   "cell_type": "code",
   "execution_count": 12,
   "id": "2a5b05a1",
   "metadata": {},
   "outputs": [
    {
     "data": {
      "text/plain": [
       "(array([73959.,     0.,     0.,     0.,     0.,     0.,     0.,     0.,\n",
       "            0.,     0.,     0.,     0.,     0.,     0.,     0.,     0.,\n",
       "            0.,     0.,     0.,     0.,     0.,     0.,     0.,     0.,\n",
       "            0.,     0.,     0.,     0.,     0.,     0.,     0.,     0.,\n",
       "            0.,     0.,     0.,     0.,     0.,     0.,     0.,     0.,\n",
       "            0.,     0.,     0.,     0.,     0.,     0.,     0.,     0.,\n",
       "            0., 26041.]),\n",
       " array([0.  , 0.02, 0.04, 0.06, 0.08, 0.1 , 0.12, 0.14, 0.16, 0.18, 0.2 ,\n",
       "        0.22, 0.24, 0.26, 0.28, 0.3 , 0.32, 0.34, 0.36, 0.38, 0.4 , 0.42,\n",
       "        0.44, 0.46, 0.48, 0.5 , 0.52, 0.54, 0.56, 0.58, 0.6 , 0.62, 0.64,\n",
       "        0.66, 0.68, 0.7 , 0.72, 0.74, 0.76, 0.78, 0.8 , 0.82, 0.84, 0.86,\n",
       "        0.88, 0.9 , 0.92, 0.94, 0.96, 0.98, 1.  ]),\n",
       " <BarContainer object of 50 artists>)"
      ]
     },
     "execution_count": 12,
     "metadata": {},
     "output_type": "execute_result"
    },
    {
     "data": {
      "image/png": "[encoded data removed]",
      "text/plain": [
       "<Figure size 432x288 with 1 Axes>"
      ]
     },
     "metadata": {
      "needs_background": "light"
     },
     "output_type": "display_data"
    }
   ],
   "source": [
    "plt.hist(df_labels[['target']], bins=50)\n",
    "# OK, slight unbalance in the 1 target. Might consider sampling adjustment"
   ]
  },
  {
   "cell_type": "code",
   "execution_count": null,
   "id": "b2a31d4e",
   "metadata": {},
   "outputs": [],
   "source": [
    "plt.hist(df_cust2[['count']], bins=50)\n",
    "plt.gca().set(title='Frequency Histogram', ylabel='Frequency');\n",
    "# OK, most of customers have few observations. Only a small sample have a lot"
   ]
  },
  {
   "cell_type": "code",
   "execution_count": null,
   "id": "ebad249b",
   "metadata": {},
   "outputs": [],
   "source": [
    "df_cust3 = df_cust2.set_index('target')\n",
    "df_cust3.plot(kind='bar')"
   ]
  },
  {
   "cell_type": "markdown",
   "id": "6605d380",
   "metadata": {},
   "source": [
    "# Modeling \n",
    "\n",
    "- Logit model (as a reference)\n",
    "- SVM\n",
    "- Random forest (comparison)\n",
    "- Ensemble models\n",
    "\n",
    "Models comparison:\n",
    "- accuracy\n",
    "- sensitivity / recall\n",
    "Discuss the ideal target with Fanelli - Subsampling?"
   ]
  }
 ],
 "metadata": {
  "kernelspec": {
   "display_name": "Python 3 (ipykernel)",
   "language": "python",
   "name": "python3"
  },
  "language_info": {
   "codemirror_mode": {
    "name": "ipython",
    "version": 3
   },
   "file_extension": ".py",
   "mimetype": "text/x-python",
   "name": "python",
   "nbconvert_exporter": "python",
   "pygments_lexer": "ipython3",
   "version": "3.9.7"
  }
 },
 "nbformat": 4,
 "nbformat_minor": 5
}
